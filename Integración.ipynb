{
 "cells": [
  {
   "cell_type": "code",
   "execution_count": 1,
   "id": "b13179b7",
   "metadata": {},
   "outputs": [],
   "source": [
    "import numpy as np    \n",
    "import sympy as sym\n",
    "from sympy import *\n",
    "from sympy import lambdify\n",
    "import matplotlib.pyplot as plt"
   ]
  },
  {
   "cell_type": "code",
   "execution_count": 2,
   "id": "36d064d9",
   "metadata": {},
   "outputs": [
    {
     "name": "stdout",
     "output_type": "stream",
     "text": [
      "1\n",
      "100\n",
      "El programa funciona!\n"
     ]
    }
   ],
   "source": [
    "#7\n",
    "R = float(input())\n",
    "n = int(input())\n",
    "\n",
    "X,l1 = np.linspace(-R, R, n, retstep=True)\n",
    "Y,l2 = np.linspace(-R, R, n, retstep=True)\n",
    "grid = []\n",
    "\n",
    "#Creación del grid\n",
    "for x in X:\n",
    "    for y in Y:\n",
    "        cord = [x, y]\n",
    "        grid.append(cord)\n",
    "\n",
    "#ecuacion de la esfera\n",
    "def f(cord):\n",
    "    r = 0\n",
    "    if np.linalg.norm(cord)<=R:\n",
    "        z = np.sqrt(R**2 - cord[0]**2 - cord[1]**2)\n",
    "        r=z\n",
    "    return r\n",
    "\n",
    "#Area de los cuadritos.\n",
    "A = l1*l2 \n",
    "V = 0\n",
    "for i in range((n**2)-n-1):\n",
    "    v = [f(grid[i]), f(grid[i+1]), f(grid[n+i]), f(grid[n+i+1])]\n",
    "    h = np.mean(v)\n",
    "    V+= h*A\n",
    "\n",
    "Ve = (2/3)*np.pi*R\n",
    "if np.allclose(V, Ve, rtol=1e-3):\n",
    "    print(\"El programa funciona!\")\n"
   ]
  },
  {
   "cell_type": "code",
   "execution_count": 3,
   "id": "0a85752e",
   "metadata": {},
   "outputs": [
    {
     "data": {
      "text/latex": [
       "$\\displaystyle - \\frac{\\left(a - b\\right) \\left(fa \\left(7 a^{2} + 6 a b - b^{2}\\right) + fb \\left(15 a^{2} - 2 a b - b^{2}\\right) + fxm \\left(- 4 a^{2} + 8 a b - 4 b^{2}\\right)\\right)}{6 \\left(a + b\\right) \\left(3 a - b\\right)}$"
      ],
      "text/plain": [
       "-(a - b)*(fa*(7*a**2 + 6*a*b - b**2) + fb*(15*a**2 - 2*a*b - b**2) + fxm*(-4*a**2 + 8*a*b - 4*b**2))/(6*(a + b)*(3*a - b))"
      ]
     },
     "execution_count": 3,
     "metadata": {},
     "output_type": "execute_result"
    }
   ],
   "source": [
    "#3\n",
    "x, a, b, xm, fa, fb, fxm, h = sym.symbols('x, a, b, xm, fa, fb, fxm, h')\n",
    "xm = (b-a)/2\n",
    "h = b-a\n",
    "px = ((x-b)*(x-xm)*fa)/((a-b)*(a-xm)) + ((x-a)*(x-b)*fxm)/((xm-a)*(xm-b)) + ((x-a)*(x-xm)*fb)/((b-a)*(b-xm))\n",
    "collect(collect(collect(factor(simplify(integrate(px, (x, a, b)))), fa), fb), fxm)\n"
   ]
  },
  {
   "cell_type": "code",
   "execution_count": 67,
   "id": "1457bb0c",
   "metadata": {},
   "outputs": [
    {
     "data": {
      "text/plain": [
       "((a + b)*(7*a - b), (3*a - b)*(5*a + b), -4*(a - b)**2)"
      ]
     },
     "execution_count": 67,
     "metadata": {},
     "output_type": "execute_result"
    }
   ],
   "source": [
    "dv1 = factor(7*a**2+6*a*b-b**2)\n",
    "dv2 = factor(15*a**2-2*a*b-b**2)\n",
    "dv3 = factor(-4*a**2+8*a*b-4*b**2)\n",
    "\"\"\"\n",
    "Para que se pueda llegar a la expresión, y teniendo en cuenta que h=b-a, es necesario que los polinomios en términos de a y b\n",
    "tengan factores en común entre sí. Pero con sympy se llega a esta encrucijada. Parece que ocurre una cancelación interesante,\n",
    "ya que es posible ver el 4 multiplicando a f(xm)\n",
    "\"\"\"\n",
    "dv1, dv2, dv3"
   ]
  },
  {
   "cell_type": "code",
   "execution_count": 8,
   "id": "17fb52a7",
   "metadata": {},
   "outputs": [
    {
     "name": "stdout",
     "output_type": "stream",
     "text": [
      "[0.41577456 2.29428036 6.28994508] [0.71109297 0.27851773 0.01038926]\n"
     ]
    },
    {
     "data": {
      "text/plain": [
       "6.481130172742926"
      ]
     },
     "execution_count": 8,
     "metadata": {},
     "output_type": "execute_result"
    }
   ],
   "source": [
    "#17.1\n",
    "#Finding the nodes and the weights.\n",
    "\"\"\"\n",
    "\tXi are the ith root of the laguerre Polynomials. As n=3, we must use the\n",
    "    following polynomial: (1/6)*(-x^3+9x^2-18x+6). To find the weights, we must evaluate\n",
    "    our roots in the n=4 polynomial: (1/24)*(x**4-16*x**3+72*x**2-96*x+24).\n",
    "\"\"\"\n",
    "\n",
    "#1. Newton Raphson\n",
    "\n",
    "def Ln(n):\n",
    "    x = sym.symbols(\"x\")\n",
    "    F = sym.exp(-x)*(x**n)\n",
    "    expr = (sym.exp(x)/sym.factorial(n))*sym.diff(F, x, n)\n",
    "    return lambdify([x], expr, 'numpy')\n",
    "\n",
    "\n",
    "def df(f,x,h = 0.0001):\n",
    "    \n",
    "    d = 0.\n",
    "    \n",
    "    if h != 0:\n",
    "        d = (f(x+h) - f(x-h))/(2*h)\n",
    "        \n",
    "    return d\n",
    "\n",
    "def GetNewtonRaphson(f,df,xn,itmax = 100, precision=1e-5):\n",
    "\n",
    "    error = 1\n",
    "    it = 0\n",
    "    \n",
    "    while error > precision and it <= itmax:\n",
    "        \n",
    "        try:\n",
    "            \n",
    "            xn1 = xn - f(xn)/df(f,xn)\n",
    "            \n",
    "            error = np.abs(f(xn)/df(f,xn))\n",
    "            \n",
    "        except ZeroDivisionError:\n",
    "            \n",
    "            print('Division por cero')\n",
    "            \n",
    "        it += 1\n",
    "        xn = xn1\n",
    "    \n",
    "    if it == itmax:\n",
    "        False\n",
    "    else:\n",
    "        return xn\n",
    "\n",
    "def GetAllRoots(Function, Derivative, x,tolerancia=8):\n",
    "    \n",
    "    Roots = np.array([])\n",
    "    \n",
    "    for i in x:\n",
    "        \n",
    "        root = GetNewtonRaphson(Function,Derivative,i)\n",
    "        \n",
    "        if root != False:\n",
    "            \n",
    "            croot = np.round(root, tolerancia)\n",
    "            \n",
    "            if croot not in Roots:\n",
    "                Roots = np.append(Roots,croot)\n",
    "                \n",
    "    Roots.sort()\n",
    "        \n",
    "    return Roots\n",
    "\n",
    "X = np.linspace(0, 50, 100)\n",
    "Xi = GetAllRoots(Ln(3), df, X)\n",
    "\n",
    "#Weights\n",
    "Wi = Xi/((4**2)*(Ln(4)(Xi)**2)) \n",
    "print(Xi, Wi)\n",
    "#Writting the function in termos of e^x*f(x). Factorizing e^x in the denominator\n",
    "#we get f(x)=x^3/(1-e^-x)\n",
    "\n",
    "def f(x):\n",
    "    return x**3/(1-np.exp(-x))\n",
    "\n",
    "def gauss_integrate(Xi, Wi):\n",
    "    gauss_int = np.sum(Wi*f(Xi))\n",
    "    return gauss_int\n",
    "\n",
    "gauss_integrate(Xi, Wi)"
   ]
  },
  {
   "cell_type": "code",
   "execution_count": 16,
   "id": "43bc4e74",
   "metadata": {},
   "outputs": [
    {
     "name": "stdout",
     "output_type": "stream",
     "text": [
      "1.5819767068693265 6.493939402266828\n",
      "6.413727474093226 6.493939402266828\n",
      "6.481130172742926 6.493939402266828\n",
      "6.494535634534753 6.493939402266828\n",
      "6.494313360074838 6.493939402266828\n",
      "6.493941388108953 6.493939402266828\n",
      "6.4939189605807535 6.493939402266828\n",
      "6.493935646086899 6.493939402266828\n",
      "6.493940188541971 6.493939402266828\n"
     ]
    },
    {
     "data": {
      "text/plain": [
       "<matplotlib.collections.PathCollection at 0x1cb92f10f10>"
      ]
     },
     "execution_count": 16,
     "metadata": {},
     "output_type": "execute_result"
    },
    {
     "data": {
      "image/png": "[encoded data removed]",
      "text/plain": [
       "<Figure size 640x480 with 1 Axes>"
      ]
     },
     "metadata": {},
     "output_type": "display_data"
    }
   ],
   "source": [
    "#17.2 -- Generalizing\n",
    "def Generalization(n):\n",
    "    x = np.linspace(0, 50, 100)\n",
    "    X = GetAllRoots(Ln(n), df, x)\n",
    "    W = X/(((n+1)**2)*((Ln(n+1)(X))**2))\n",
    "    #print(X, W)\n",
    "    A = gauss_integrate(X, W)\n",
    "    return A\n",
    "\n",
    "Vr = (np.pi**4)/15\n",
    "data = []\n",
    "n=10\n",
    "for i in range(1, n):\n",
    "    point = Generalization(i)/Vr\n",
    "    print(Generalization(i), Vr)\n",
    "    data.append(point)\n",
    "\n",
    "plt.scatter(np.arange(1, 10), data)\n",
    "    \n"
   ]
  },
  {
   "cell_type": "code",
   "execution_count": null,
   "id": "0f8cbf0d",
   "metadata": {},
   "outputs": [],
   "source": [
    "#18\n"
   ]
  },
  {
   "cell_type": "code",
   "execution_count": null,
   "id": "bed4971d",
   "metadata": {},
   "outputs": [],
   "source": []
  },
  {
   "cell_type": "code",
   "execution_count": null,
   "id": "b7b806a0",
   "metadata": {},
   "outputs": [],
   "source": []
  },
  {
   "cell_type": "code",
   "execution_count": null,
   "id": "e80a2a70",
   "metadata": {},
   "outputs": [],
   "source": []
  }
 ],
 "metadata": {
  "kernelspec": {
   "display_name": "Python 3 (ipykernel)",
   "language": "python",
   "name": "python3"
  },
  "language_info": {
   "codemirror_mode": {
    "name": "ipython",
    "version": 3
   },
   "file_extension": ".py",
   "mimetype": "text/x-python",
   "name": "python",
   "nbconvert_exporter": "python",
   "pygments_lexer": "ipython3",
   "version": "3.9.13"
  }
 },
 "nbformat": 4,
 "nbformat_minor": 5
}
