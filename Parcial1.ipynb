{
  "nbformat": 4,
  "nbformat_minor": 0,
  "metadata": {
    "colab": {
      "provenance": []
    },
    "kernelspec": {
      "name": "python3",
      "display_name": "Python 3"
    },
    "language_info": {
      "name": "python"
    }
  },
  "cells": [
    {
      "cell_type": "code",
      "execution_count": 5,
      "metadata": {
        "colab": {
          "base_uri": "https://localhost:8080/",
          "height": 311
        },
        "id": "Bn_2xUwsRICr",
        "outputId": "7eb8e9bf-b54f-4bf6-d0ee-e9890f9b6743"
      },
      "outputs": [
        {
          "output_type": "stream",
          "name": "stdout",
          "text": [
            "0.3169057563751458\n",
            "1.33 1.3299999995463243\n"
          ]
        },
        {
          "output_type": "display_data",
          "data": {
            "text/plain": [
              "<Figure size 432x288 with 1 Axes>"
            ],
            "image/png": "[encoded data removed]"
          },
          "metadata": {
            "needs_background": "light"
          }
        }
      ],
      "source": [
        "import numpy as np\n",
        "import matplotlib.pyplot as plt\n",
        "\n",
        "x = np.linspace(-3, 2, 100)\n",
        "\n",
        "\n",
        "def t_x(x):\n",
        "    t = np.array([-3, 2])\n",
        "    r = np.array([2, -2])\n",
        "    vo= 1/(3*(10**8))\n",
        "    v1= 1.33/(3*(10**8))\n",
        "    out = vo*(((x - t[0])**2 + (t[1]**2))**(1/2)) +  (v1*(((x - r[0])**2 + (r[1]**2))**(1/2)))\n",
        "    return out\n",
        "\n",
        "\n",
        "\n",
        "plt.plot(x,t_x(x))\n",
        "\n",
        "\n",
        "def df(f,x,h = 0.0001):\n",
        "    \n",
        "    d = 0.\n",
        "    \n",
        "    if h != 0:\n",
        "        d = (f(x+h) - f(x-h))/(2*h)\n",
        "        \n",
        "    return d\n",
        "\n",
        "def SecondD(f, x, h = 0.0001):\n",
        "    d = 0.\n",
        "    \n",
        "    if h != 0:\n",
        "        d = (f(x+h) - 2*f(x) +  f(x-h))/(h**2)\n",
        "        \n",
        "    return d\n",
        "    \n",
        "der = df(t_x, x)\n",
        "\n",
        "\n",
        "#Newton-Raphson\n",
        "n = -3\n",
        "for i in range(0, 10000):\n",
        "    n-= df(t_x, n)/SecondD(t_x, n)\n",
        "\n",
        "print(n)\n",
        "\n",
        "#Angulo\n",
        "def unit_vector(vector):\n",
        "  return vector / np.linalg.norm(vector) \n",
        "\n",
        "def angle_between(v1, v2):\n",
        "  v1_u = unit_vector(v1)\n",
        "  v2_u = unit_vector(v2) \n",
        "  return np.arccos(np.clip(np.dot(v1_u, v2_u), -1.0, 1.0))\n",
        "\n",
        "#Fuente: https://www.iteramos.com/pregunta/95050/Angulos-entre-dos-vectores-n-dimensionales-en-python\n",
        "\n",
        "t = np.array([-3-n, 2])\n",
        "y1 = np.array([0, 1])\n",
        "r = np.array([2-n,-2])\n",
        "y2 = np.array([0, -1])\n",
        "\n",
        "a1 = angle_between(t, y1)\n",
        "a2 = angle_between(r, y2)\n",
        "\n",
        "#Snell\n",
        "a = 1.33/1\n",
        "b = np.sin(a1)/np.sin(a2)\n",
        "print(a, b)"
      ]
    },
    {
      "cell_type": "code",
      "source": [],
      "metadata": {
        "id": "Ft0Malz_RKNp"
      },
      "execution_count": null,
      "outputs": []
    }
  ]
}