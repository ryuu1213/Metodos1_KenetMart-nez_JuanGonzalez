{
 "cells": [
  {
   "cell_type": "code",
   "execution_count": 23,
   "metadata": {
    "id": "mH3SqeXaakUI"
   },
   "outputs": [],
   "source": [
    "import sympy as sym\n",
    "import numpy as np\n",
    "from scipy import integrate\n",
    "import matplotlib.pyplot as plt\n",
    "\n",
    "\n",
    "a= 0.5\n",
    "\n",
    "b= 0\n",
    "c= 2*np.pi\n",
    "\n",
    "\n"
   ]
  },
  {
   "cell_type": "code",
   "execution_count": 3,
   "metadata": {
    "id": "-YzAisTHf2Zu"
   },
   "outputs": [],
   "source": [
    "def Integral1 (x, y, z,):\n",
    "    f = lambda theta: (x - a*np.cos(theta)) / ((x**2 + y**2 + z**2 + a**2 - 2*a*x*np.cos(theta) - 2*a*y*np.sin(theta))*(3/2))\n",
    "    Roots1, Weights1 = np.polynomial.legendre.leggauss(20)\n",
    "    t1 = 0.5*( ((c-b))*Roots1 + b + c )\n",
    "    Integral1 = 0.5*((c-b)*np.sum( Weights1*f(t1) ))\n",
    "    return Integral1\n"
   ]
  },
  {
   "cell_type": "code",
   "execution_count": 4,
   "metadata": {
    "colab": {
     "base_uri": "https://localhost:8080/"
    },
    "id": "upNarbs0h85h",
    "outputId": "d0ff685e-7964-4e9b-accc-9ba2ff2d6137"
   },
   "outputs": [
    {
     "name": "stdout",
     "output_type": "stream",
     "text": [
      "1.9242826781387765\n"
     ]
    }
   ],
   "source": [
    "def Ex (x,y,z):\n",
    "    f1= Integral1 (x, y, z)\n",
    "    f3 = (1/ 2*np.pi) * f1\n",
    "    return f3\n",
    "\n",
    "print(Ex(0.6,0.6,1))"
   ]
  },
  {
   "cell_type": "code",
   "execution_count": 5,
   "metadata": {
    "id": "1AYB2AOdkMlb"
   },
   "outputs": [],
   "source": [
    "def Integral2 (x, y, z,):\n",
    "    f = lambda theta: (y - a*np.sin(theta)) / ((x**2 + y**2 + z**2 + a**2 - 2*a*x*np.cos(theta) - 2*a*y*np.sin(theta))*(3/2))\n",
    "    Roots1, Weights1 = np.polynomial.legendre.leggauss(20)\n",
    "    t1 = 0.5*( ((c-b))*Roots1 + b + c )\n",
    "    Integral2 = 0.5*((c-b)*np.sum( Weights1*f(t1) ))\n",
    "    return Integral2\n"
   ]
  },
  {
   "cell_type": "code",
   "execution_count": 6,
   "metadata": {
    "colab": {
     "base_uri": "https://localhost:8080/"
    },
    "id": "GVFZdd9ykUvR",
    "outputId": "16afba52-d911-4b2c-e5e2-041b04cc8784"
   },
   "outputs": [
    {
     "name": "stdout",
     "output_type": "stream",
     "text": [
      "1.9242826780664333\n"
     ]
    }
   ],
   "source": [
    "def Ey (x,y,z):\n",
    "    f1= Integral2 (x, y, z)\n",
    "    f3 = (1/ 2*np.pi) * f1\n",
    "    return f3\n",
    "\n",
    "print(Ey(0.6,0.6,1))"
   ]
  },
  {
   "cell_type": "code",
   "execution_count": 16,
   "metadata": {
    "id": "YDMoyMI5kX5x"
   },
   "outputs": [],
   "source": [
    "def Integral3 (x, y, z):\n",
    "    f = lambda theta:  (z) / ((x**2 + y**2 + z**2 + a**2 - 2*a*x*np.cos(theta) - 2*a*y*np.sin(theta))*(3/2))\n",
    "    Roots1, Weights1 = np.polynomial.legendre.leggauss(20)\n",
    "    t1 = 0.5*( ((c-b))*Roots1 + b + c )\n",
    "    Integral3 = 0.5*((c-b)*np.sum( Weights1*f(t1) ))\n",
    "    return Integral3"
   ]
  },
  {
   "cell_type": "code",
   "execution_count": 17,
   "metadata": {
    "colab": {
     "base_uri": "https://localhost:8080/"
    },
    "id": "FHZv6B2gkfmB",
    "outputId": "73657356-9a99-4660-cf4f-134f1ec9dc7c"
   },
   "outputs": [
    {
     "name": "stdout",
     "output_type": "stream",
     "text": [
      "3.70086384895595\n"
     ]
    }
   ],
   "source": [
    "def Ez (x,y,z):\n",
    "    f1= Integral3 (x, y, z)\n",
    "    f3 = (1/ 2*np.pi) * f1\n",
    "    return f3\n",
    "\n",
    "print(Ez(0.6,0.6,1))"
   ]
  },
  {
   "cell_type": "code",
   "execution_count": 26,
   "metadata": {
    "colab": {
     "base_uri": "https://localhost:8080/",
     "height": 321
    },
    "id": "O6JaP4tJlxbj",
    "outputId": "5cecff0c-e76c-4845-c4ba-5a000282e481"
   },
   "outputs": [
    {
     "ename": "TypeError",
     "evalue": "'int' object is not subscriptable",
     "output_type": "error",
     "traceback": [
      "\u001b[1;31m---------------------------------------------------------------------------\u001b[0m",
      "\u001b[1;31mTypeError\u001b[0m                                 Traceback (most recent call last)",
      "\u001b[1;32m~\\AppData\\Local\\Temp\\ipykernel_21024\\1317642190.py\u001b[0m in \u001b[0;36m<module>\u001b[1;34m\u001b[0m\n\u001b[0;32m     12\u001b[0m     \u001b[1;32mfor\u001b[0m \u001b[0mj\u001b[0m \u001b[1;32min\u001b[0m \u001b[0mrange\u001b[0m\u001b[1;33m(\u001b[0m\u001b[0mN\u001b[0m\u001b[1;33m)\u001b[0m\u001b[1;33m:\u001b[0m\u001b[1;33m\u001b[0m\u001b[1;33m\u001b[0m\u001b[0m\n\u001b[0;32m     13\u001b[0m         \u001b[1;32mfor\u001b[0m \u001b[0mk\u001b[0m \u001b[1;32min\u001b[0m \u001b[0mrange\u001b[0m\u001b[1;33m(\u001b[0m\u001b[0mN\u001b[0m\u001b[1;33m)\u001b[0m\u001b[1;33m:\u001b[0m\u001b[1;33m\u001b[0m\u001b[1;33m\u001b[0m\u001b[0m\n\u001b[1;32m---> 14\u001b[1;33m             \u001b[0mex\u001b[0m\u001b[1;33m[\u001b[0m\u001b[0mi\u001b[0m\u001b[1;33m,\u001b[0m \u001b[0mj\u001b[0m\u001b[1;33m,\u001b[0m \u001b[0mk\u001b[0m\u001b[1;33m]\u001b[0m \u001b[1;33m=\u001b[0m  \u001b[0mEx\u001b[0m\u001b[1;33m(\u001b[0m\u001b[0mx\u001b[0m\u001b[1;33m[\u001b[0m\u001b[0mi\u001b[0m\u001b[1;33m]\u001b[0m\u001b[1;33m,\u001b[0m \u001b[0my\u001b[0m\u001b[1;33m[\u001b[0m\u001b[0mj\u001b[0m\u001b[1;33m]\u001b[0m\u001b[1;33m,\u001b[0m \u001b[0mz\u001b[0m\u001b[1;33m[\u001b[0m\u001b[0mk\u001b[0m\u001b[1;33m]\u001b[0m\u001b[1;33m)\u001b[0m\u001b[1;33m\u001b[0m\u001b[1;33m\u001b[0m\u001b[0m\n\u001b[0m\u001b[0;32m     15\u001b[0m             \u001b[0mey\u001b[0m\u001b[1;33m[\u001b[0m\u001b[0mi\u001b[0m\u001b[1;33m,\u001b[0m \u001b[0mj\u001b[0m\u001b[1;33m,\u001b[0m \u001b[0mk\u001b[0m\u001b[1;33m]\u001b[0m \u001b[1;33m=\u001b[0m  \u001b[0mEy\u001b[0m\u001b[1;33m(\u001b[0m\u001b[0mx\u001b[0m\u001b[1;33m[\u001b[0m\u001b[0mi\u001b[0m\u001b[1;33m]\u001b[0m\u001b[1;33m,\u001b[0m \u001b[0my\u001b[0m\u001b[1;33m[\u001b[0m\u001b[0mj\u001b[0m\u001b[1;33m]\u001b[0m\u001b[1;33m,\u001b[0m \u001b[0mz\u001b[0m\u001b[1;33m[\u001b[0m\u001b[0mk\u001b[0m\u001b[1;33m]\u001b[0m\u001b[1;33m)\u001b[0m\u001b[1;33m\u001b[0m\u001b[1;33m\u001b[0m\u001b[0m\n\u001b[0;32m     16\u001b[0m             \u001b[0mez\u001b[0m\u001b[1;33m[\u001b[0m\u001b[0mi\u001b[0m\u001b[1;33m,\u001b[0m \u001b[0mj\u001b[0m\u001b[1;33m,\u001b[0m \u001b[0mk\u001b[0m\u001b[1;33m]\u001b[0m \u001b[1;33m=\u001b[0m  \u001b[0mEz\u001b[0m\u001b[1;33m(\u001b[0m\u001b[0mx\u001b[0m\u001b[1;33m[\u001b[0m\u001b[0mi\u001b[0m\u001b[1;33m]\u001b[0m\u001b[1;33m,\u001b[0m \u001b[0my\u001b[0m\u001b[1;33m[\u001b[0m\u001b[0mj\u001b[0m\u001b[1;33m]\u001b[0m\u001b[1;33m,\u001b[0m \u001b[0mz\u001b[0m\u001b[1;33m[\u001b[0m\u001b[0mk\u001b[0m\u001b[1;33m]\u001b[0m\u001b[1;33m)\u001b[0m\u001b[1;33m\u001b[0m\u001b[1;33m\u001b[0m\u001b[0m\n",
      "\u001b[1;31mTypeError\u001b[0m: 'int' object is not subscriptable"
     ]
    }
   ],
   "source": [
    "N = 6\n",
    "\n",
    "X=np.linspace(-0.6,0.6,N)\n",
    "Y=np.linspace(-0.6,0.6,N)\n",
    "Z=np.linspace(-0.6,0.6,N)\n",
    "\n",
    "ex = np.zeros((N,N,N))\n",
    "ey = np.zeros((N,N,N))\n",
    "ez = np.zeros((N,N,N))\n",
    "\n",
    "for i in range (N):\n",
    "    for j in range(N):\n",
    "        for k in range(N):\n",
    "            ex[i, j, k] =  Ex(x[i], y[j], z[k])\n",
    "            ey[i, j, k] =  Ey(x[i], y[j], z[k])\n",
    "            ez[i, j, k] =  Ez(x[i], y[j], z[k])\n",
    "\n",
    "\n",
    "fig = plt.figure(figsize=(5,5))\n",
    "ax = fig.add_subplot(121)\n",
    "ax1 = fig.add_subplot(122)\n",
    "ax2 = fig.add_subplot(123)\n",
    "\n",
    "#ax.scatter(X,Y, Z)\n",
    "\n",
    "for i in range(N):\n",
    "    for j in range(N):\n",
    "        for z in range(N):\n",
    "            ax.quiver(x[i],y[j],z[z], Ex[i,j, z],Ey[i,j, z], Ez[i, j, z])\n",
    "        \n",
    "ax1.streamplot(X,Y,Z,Ex.T,Ey.T,Ez.T,density=2)"
   ]
  },
  {
   "cell_type": "code",
   "execution_count": null,
   "metadata": {
    "id": "RtxF18AWnKoT"
   },
   "outputs": [],
   "source": []
  }
 ],
 "metadata": {
  "colab": {
   "provenance": []
  },
  "kernelspec": {
   "display_name": "Python 3 (ipykernel)",
   "language": "python",
   "name": "python3"
  },
  "language_info": {
   "codemirror_mode": {
    "name": "ipython",
    "version": 3
   },
   "file_extension": ".py",
   "mimetype": "text/x-python",
   "name": "python",
   "nbconvert_exporter": "python",
   "pygments_lexer": "ipython3",
   "version": "3.9.13"
  }
 },
 "nbformat": 4,
 "nbformat_minor": 1
}
